{
  "nbformat": 4,
  "nbformat_minor": 0,
  "metadata": {
    "colab": {
      "provenance": [],
      "gpuType": "T4"
    },
    "kernelspec": {
      "name": "python3",
      "display_name": "Python 3"
    },
    "language_info": {
      "name": "python"
    },
    "accelerator": "GPU",
    "widgets": {
      "application/vnd.jupyter.widget-state+json": {
        "daa2b49e703344fc95403be23ac353ea": {
          "model_module": "@jupyter-widgets/controls",
          "model_name": "HBoxModel",
          "model_module_version": "1.5.0",
          "state": {
            "_dom_classes": [],
            "_model_module": "@jupyter-widgets/controls",
            "_model_module_version": "1.5.0",
            "_model_name": "HBoxModel",
            "_view_count": null,
            "_view_module": "@jupyter-widgets/controls",
            "_view_module_version": "1.5.0",
            "_view_name": "HBoxView",
            "box_style": "",
            "children": [
              "IPY_MODEL_467b629f0ae54ce984f96cd30075ced7",
              "IPY_MODEL_f62574d9242e47ba948e1e16585aa03b",
              "IPY_MODEL_74a031c041dd46c6b7098c8118743638"
            ],
            "layout": "IPY_MODEL_29369f3f0cc94cf2b77770832d8ab3b6"
          }
        },
        "467b629f0ae54ce984f96cd30075ced7": {
          "model_module": "@jupyter-widgets/controls",
          "model_name": "HTMLModel",
          "model_module_version": "1.5.0",
          "state": {
            "_dom_classes": [],
            "_model_module": "@jupyter-widgets/controls",
            "_model_module_version": "1.5.0",
            "_model_name": "HTMLModel",
            "_view_count": null,
            "_view_module": "@jupyter-widgets/controls",
            "_view_module_version": "1.5.0",
            "_view_name": "HTMLView",
            "description": "",
            "description_tooltip": null,
            "layout": "IPY_MODEL_e4b0ed46ffab4a2495cada9e902bd57d",
            "placeholder": "​",
            "style": "IPY_MODEL_4bff0146d6094d2e82fdf7c8cb87533c",
            "value": "Loading checkpoint shards: 100%"
          }
        },
        "f62574d9242e47ba948e1e16585aa03b": {
          "model_module": "@jupyter-widgets/controls",
          "model_name": "FloatProgressModel",
          "model_module_version": "1.5.0",
          "state": {
            "_dom_classes": [],
            "_model_module": "@jupyter-widgets/controls",
            "_model_module_version": "1.5.0",
            "_model_name": "FloatProgressModel",
            "_view_count": null,
            "_view_module": "@jupyter-widgets/controls",
            "_view_module_version": "1.5.0",
            "_view_name": "ProgressView",
            "bar_style": "success",
            "description": "",
            "description_tooltip": null,
            "layout": "IPY_MODEL_56f570fa0a9f4752a70ba7b287d9511d",
            "max": 8,
            "min": 0,
            "orientation": "horizontal",
            "style": "IPY_MODEL_eb0a690b592e48858ec8f6a5b75615bc",
            "value": 8
          }
        },
        "74a031c041dd46c6b7098c8118743638": {
          "model_module": "@jupyter-widgets/controls",
          "model_name": "HTMLModel",
          "model_module_version": "1.5.0",
          "state": {
            "_dom_classes": [],
            "_model_module": "@jupyter-widgets/controls",
            "_model_module_version": "1.5.0",
            "_model_name": "HTMLModel",
            "_view_count": null,
            "_view_module": "@jupyter-widgets/controls",
            "_view_module_version": "1.5.0",
            "_view_name": "HTMLView",
            "description": "",
            "description_tooltip": null,
            "layout": "IPY_MODEL_cd80527622084e33a563463b8eaed6ce",
            "placeholder": "​",
            "style": "IPY_MODEL_c0e60fdc52e14032b06e3c95aca8e69e",
            "value": " 8/8 [01:13&lt;00:00,  7.87s/it]"
          }
        },
        "29369f3f0cc94cf2b77770832d8ab3b6": {
          "model_module": "@jupyter-widgets/base",
          "model_name": "LayoutModel",
          "model_module_version": "1.2.0",
          "state": {
            "_model_module": "@jupyter-widgets/base",
            "_model_module_version": "1.2.0",
            "_model_name": "LayoutModel",
            "_view_count": null,
            "_view_module": "@jupyter-widgets/base",
            "_view_module_version": "1.2.0",
            "_view_name": "LayoutView",
            "align_content": null,
            "align_items": null,
            "align_self": null,
            "border": null,
            "bottom": null,
            "display": null,
            "flex": null,
            "flex_flow": null,
            "grid_area": null,
            "grid_auto_columns": null,
            "grid_auto_flow": null,
            "grid_auto_rows": null,
            "grid_column": null,
            "grid_gap": null,
            "grid_row": null,
            "grid_template_areas": null,
            "grid_template_columns": null,
            "grid_template_rows": null,
            "height": null,
            "justify_content": null,
            "justify_items": null,
            "left": null,
            "margin": null,
            "max_height": null,
            "max_width": null,
            "min_height": null,
            "min_width": null,
            "object_fit": null,
            "object_position": null,
            "order": null,
            "overflow": null,
            "overflow_x": null,
            "overflow_y": null,
            "padding": null,
            "right": null,
            "top": null,
            "visibility": null,
            "width": null
          }
        },
        "e4b0ed46ffab4a2495cada9e902bd57d": {
          "model_module": "@jupyter-widgets/base",
          "model_name": "LayoutModel",
          "model_module_version": "1.2.0",
          "state": {
            "_model_module": "@jupyter-widgets/base",
            "_model_module_version": "1.2.0",
            "_model_name": "LayoutModel",
            "_view_count": null,
            "_view_module": "@jupyter-widgets/base",
            "_view_module_version": "1.2.0",
            "_view_name": "LayoutView",
            "align_content": null,
            "align_items": null,
            "align_self": null,
            "border": null,
            "bottom": null,
            "display": null,
            "flex": null,
            "flex_flow": null,
            "grid_area": null,
            "grid_auto_columns": null,
            "grid_auto_flow": null,
            "grid_auto_rows": null,
            "grid_column": null,
            "grid_gap": null,
            "grid_row": null,
            "grid_template_areas": null,
            "grid_template_columns": null,
            "grid_template_rows": null,
            "height": null,
            "justify_content": null,
            "justify_items": null,
            "left": null,
            "margin": null,
            "max_height": null,
            "max_width": null,
            "min_height": null,
            "min_width": null,
            "object_fit": null,
            "object_position": null,
            "order": null,
            "overflow": null,
            "overflow_x": null,
            "overflow_y": null,
            "padding": null,
            "right": null,
            "top": null,
            "visibility": null,
            "width": null
          }
        },
        "4bff0146d6094d2e82fdf7c8cb87533c": {
          "model_module": "@jupyter-widgets/controls",
          "model_name": "DescriptionStyleModel",
          "model_module_version": "1.5.0",
          "state": {
            "_model_module": "@jupyter-widgets/controls",
            "_model_module_version": "1.5.0",
            "_model_name": "DescriptionStyleModel",
            "_view_count": null,
            "_view_module": "@jupyter-widgets/base",
            "_view_module_version": "1.2.0",
            "_view_name": "StyleView",
            "description_width": ""
          }
        },
        "56f570fa0a9f4752a70ba7b287d9511d": {
          "model_module": "@jupyter-widgets/base",
          "model_name": "LayoutModel",
          "model_module_version": "1.2.0",
          "state": {
            "_model_module": "@jupyter-widgets/base",
            "_model_module_version": "1.2.0",
            "_model_name": "LayoutModel",
            "_view_count": null,
            "_view_module": "@jupyter-widgets/base",
            "_view_module_version": "1.2.0",
            "_view_name": "LayoutView",
            "align_content": null,
            "align_items": null,
            "align_self": null,
            "border": null,
            "bottom": null,
            "display": null,
            "flex": null,
            "flex_flow": null,
            "grid_area": null,
            "grid_auto_columns": null,
            "grid_auto_flow": null,
            "grid_auto_rows": null,
            "grid_column": null,
            "grid_gap": null,
            "grid_row": null,
            "grid_template_areas": null,
            "grid_template_columns": null,
            "grid_template_rows": null,
            "height": null,
            "justify_content": null,
            "justify_items": null,
            "left": null,
            "margin": null,
            "max_height": null,
            "max_width": null,
            "min_height": null,
            "min_width": null,
            "object_fit": null,
            "object_position": null,
            "order": null,
            "overflow": null,
            "overflow_x": null,
            "overflow_y": null,
            "padding": null,
            "right": null,
            "top": null,
            "visibility": null,
            "width": null
          }
        },
        "eb0a690b592e48858ec8f6a5b75615bc": {
          "model_module": "@jupyter-widgets/controls",
          "model_name": "ProgressStyleModel",
          "model_module_version": "1.5.0",
          "state": {
            "_model_module": "@jupyter-widgets/controls",
            "_model_module_version": "1.5.0",
            "_model_name": "ProgressStyleModel",
            "_view_count": null,
            "_view_module": "@jupyter-widgets/base",
            "_view_module_version": "1.2.0",
            "_view_name": "StyleView",
            "bar_color": null,
            "description_width": ""
          }
        },
        "cd80527622084e33a563463b8eaed6ce": {
          "model_module": "@jupyter-widgets/base",
          "model_name": "LayoutModel",
          "model_module_version": "1.2.0",
          "state": {
            "_model_module": "@jupyter-widgets/base",
            "_model_module_version": "1.2.0",
            "_model_name": "LayoutModel",
            "_view_count": null,
            "_view_module": "@jupyter-widgets/base",
            "_view_module_version": "1.2.0",
            "_view_name": "LayoutView",
            "align_content": null,
            "align_items": null,
            "align_self": null,
            "border": null,
            "bottom": null,
            "display": null,
            "flex": null,
            "flex_flow": null,
            "grid_area": null,
            "grid_auto_columns": null,
            "grid_auto_flow": null,
            "grid_auto_rows": null,
            "grid_column": null,
            "grid_gap": null,
            "grid_row": null,
            "grid_template_areas": null,
            "grid_template_columns": null,
            "grid_template_rows": null,
            "height": null,
            "justify_content": null,
            "justify_items": null,
            "left": null,
            "margin": null,
            "max_height": null,
            "max_width": null,
            "min_height": null,
            "min_width": null,
            "object_fit": null,
            "object_position": null,
            "order": null,
            "overflow": null,
            "overflow_x": null,
            "overflow_y": null,
            "padding": null,
            "right": null,
            "top": null,
            "visibility": null,
            "width": null
          }
        },
        "c0e60fdc52e14032b06e3c95aca8e69e": {
          "model_module": "@jupyter-widgets/controls",
          "model_name": "DescriptionStyleModel",
          "model_module_version": "1.5.0",
          "state": {
            "_model_module": "@jupyter-widgets/controls",
            "_model_module_version": "1.5.0",
            "_model_name": "DescriptionStyleModel",
            "_view_count": null,
            "_view_module": "@jupyter-widgets/base",
            "_view_module_version": "1.2.0",
            "_view_name": "StyleView",
            "description_width": ""
          }
        }
      }
    }
  },
  "cells": [
    {
      "cell_type": "code",
      "execution_count": null,
      "metadata": {
        "id": "tKn5y3MPu2gv"
      },
      "outputs": [],
      "source": []
    },
    {
      "cell_type": "markdown",
      "source": [
        "# SLMS"
      ],
      "metadata": {
        "id": "0q6DmkPUcqUk"
      }
    },
    {
      "cell_type": "markdown",
      "source": [
        "## Required Packages"
      ],
      "metadata": {
        "id": "ZbCT1zCIT_14"
      }
    },
    {
      "cell_type": "code",
      "source": [
        "# !pip install -Uqqq pip --progress-bar off\n",
        "# !pip install -qqq torch==2.1 --progress-bar off\n",
        "# !pip install -qqq accelerate==0.23.0 --progress-bar off\n",
        "# !pip install -qqq bitsandbytes==0.41.1 --progress-bar off\n",
        "# !pip install langchain langchain_community\n",
        "# !pip install langchainhub\n",
        "# !pip install git+https://github.com/huggingface/transformers\n",
        "# !wget https://www.plus2net.com/python/download/my_db.db"
      ],
      "metadata": {
        "id": "_LVcCSZ5Y1s4"
      },
      "execution_count": null,
      "outputs": []
    },
    {
      "cell_type": "code",
      "source": [
        "# !pip install langchain_experimental"
      ],
      "metadata": {
        "id": "KY03WkIDw92a"
      },
      "execution_count": null,
      "outputs": []
    },
    {
      "cell_type": "markdown",
      "source": [
        "## Required Libraries"
      ],
      "metadata": {
        "id": "fm7QdpNCUFp_"
      }
    },
    {
      "cell_type": "code",
      "source": [
        "from langchain import hub\n",
        "from langchain_community.utilities import SQLDatabase\n",
        "\n",
        "import sqlite3\n",
        "\n",
        "import torch\n",
        "from transformers import (\n",
        "    AutoModelForCausalLM,\n",
        "    AutoTokenizer,\n",
        "    GenerationConfig,\n",
        "    TextStreamer,\n",
        "    pipeline,\n",
        ")\n",
        "\n",
        "from langchain import HuggingFacePipeline\n",
        "from langchain import PromptTemplate, LLMChain\n",
        "\n",
        "import pandas as pd\n",
        "\n",
        "from langchain_experimental.agents.agent_toolkits import create_pandas_dataframe_agent\n"
      ],
      "metadata": {
        "id": "VAzQvrDmFw4a"
      },
      "execution_count": null,
      "outputs": []
    },
    {
      "cell_type": "markdown",
      "source": [
        "## SLM Model"
      ],
      "metadata": {
        "id": "UVdALJVmUN1r"
      }
    },
    {
      "cell_type": "code",
      "source": [
        "MODEL_NAME = \"HuggingFaceH4/zephyr-7b-beta\"\n",
        "\n",
        "tokenizer = AutoTokenizer.from_pretrained(MODEL_NAME , use_fast=False) # ,use_fast=False\n",
        "model = AutoModelForCausalLM.from_pretrained(\n",
        "    MODEL_NAME,\n",
        "        trust_remote_code=True,\n",
        "        # torch_dtype=torch.bfloat16,\n",
        "         load_in_8bit=True,\n",
        "        device_map=\"auto\",\n",
        "\n",
        ")\n",
        "\n",
        "generation_config = GenerationConfig.from_pretrained(MODEL_NAME)\n",
        "generation_config.max_new_tokens = 256\n",
        "generation_config.temperature = 0.0001\n",
        "generation_config.num_beams=1\n",
        "generation_config.num_beam_groups=1\n",
        "generation_config.do_sample = True\n",
        "\n",
        "\n",
        "llm_pipeline = pipeline(\n",
        "\"text-generation\",\n",
        "model=model,\n",
        "tokenizer=tokenizer,\n",
        "return_full_text=True,\n",
        "generation_config=generation_config,\n",
        "num_return_sequences=1,\n",
        "eos_token_id=tokenizer.eos_token_id,\n",
        "pad_token_id=tokenizer.eos_token_id\n",
        ")\n",
        "\n",
        "llm = HuggingFacePipeline(pipeline=llm_pipeline)"
      ],
      "metadata": {
        "id": "3a4MJ0z6svex",
        "colab": {
          "base_uri": "https://localhost:8080/",
          "height": 190,
          "referenced_widgets": [
            "daa2b49e703344fc95403be23ac353ea",
            "467b629f0ae54ce984f96cd30075ced7",
            "f62574d9242e47ba948e1e16585aa03b",
            "74a031c041dd46c6b7098c8118743638",
            "29369f3f0cc94cf2b77770832d8ab3b6",
            "e4b0ed46ffab4a2495cada9e902bd57d",
            "4bff0146d6094d2e82fdf7c8cb87533c",
            "56f570fa0a9f4752a70ba7b287d9511d",
            "eb0a690b592e48858ec8f6a5b75615bc",
            "cd80527622084e33a563463b8eaed6ce",
            "c0e60fdc52e14032b06e3c95aca8e69e"
          ]
        },
        "outputId": "4ac1b22f-e556-423e-9a19-a7dd0b7dd85c"
      },
      "execution_count": null,
      "outputs": [
        {
          "output_type": "stream",
          "name": "stderr",
          "text": [
            "/usr/local/lib/python3.10/dist-packages/huggingface_hub/utils/_token.py:88: UserWarning: \n",
            "The secret `HF_TOKEN` does not exist in your Colab secrets.\n",
            "To authenticate with the Hugging Face Hub, create a token in your settings tab (https://huggingface.co/settings/tokens), set it as secret in your Google Colab and restart your session.\n",
            "You will be able to reuse this secret in all of your notebooks.\n",
            "Please note that authentication is recommended but still optional to access public models or datasets.\n",
            "  warnings.warn(\n",
            "The `load_in_4bit` and `load_in_8bit` arguments are deprecated and will be removed in the future versions. Please, pass a `BitsAndBytesConfig` object in `quantization_config` argument instead.\n"
          ]
        },
        {
          "output_type": "display_data",
          "data": {
            "text/plain": [
              "Loading checkpoint shards:   0%|          | 0/8 [00:00<?, ?it/s]"
            ],
            "application/vnd.jupyter.widget-view+json": {
              "version_major": 2,
              "version_minor": 0,
              "model_id": "daa2b49e703344fc95403be23ac353ea"
            }
          },
          "metadata": {}
        }
      ]
    },
    {
      "cell_type": "code",
      "source": [
        "template = \"\"\"\n",
        "### Task\n",
        "Generate a PYTHON code to answer [QUESTION]{user_question}[/QUESTION]\n",
        "\n",
        "### DataFrame\n",
        "The python code will run on a following dataframe:\n",
        "dataframe name : {dataframe name}\n",
        "dataframe : {dataframe}\n",
        "\n",
        "No need to import libraries ,\n",
        "Use above dataframe name as the name of the dataframe .\n",
        "\n",
        "### Answer\n",
        "Given the dataframe, here is the PYTHON code that [QUESTION]{user_question}[/QUESTION]\n",
        "[PYTHON]\n",
        "\n",
        "\"\"\"\n",
        "prompt = PromptTemplate(input_variables = ['user_question','dataframe','dataframe name'] , template = template )\n",
        "\n",
        "llm_chain = LLMChain(llm = llm , prompt = prompt)"
      ],
      "metadata": {
        "id": "YOpmKr8s8Z2l"
      },
      "execution_count": null,
      "outputs": []
    },
    {
      "cell_type": "code",
      "source": [
        "\n",
        "db = SQLDatabase.from_uri(\"sqlite:///./my_db.db\",sample_rows_in_table_info=0)\n",
        "table_names = db.get_usable_table_names()\n",
        "student_table = table_names[1]\n",
        "connection = sqlite3.connect(\"my_db.db\")\n",
        "student = pd.read_sql(\"select * from student ;\",connection)\n",
        "question = \"Plot the distribution of marks of student\"\n",
        "input = {'user_question':question , 'dataframe':[student] , \"dataframe name\":\"student\"}\n",
        "\n",
        "\n"
      ],
      "metadata": {
        "id": "mas8REatEnFN"
      },
      "execution_count": null,
      "outputs": []
    },
    {
      "cell_type": "code",
      "source": [
        "res = llm_chain.invoke(input)"
      ],
      "metadata": {
        "id": "vOq759ULXMTn"
      },
      "execution_count": null,
      "outputs": []
    },
    {
      "cell_type": "code",
      "source": [
        "print(res['text'])"
      ],
      "metadata": {
        "colab": {
          "base_uri": "https://localhost:8080/"
        },
        "id": "Rud-NrVvz-2L",
        "outputId": "6093dff8-68a3-4f60-e348-47f555bef99b"
      },
      "execution_count": null,
      "outputs": [
        {
          "output_type": "stream",
          "name": "stdout",
          "text": [
            "```python\n",
            "import matplotlib.pyplot as plt\n",
            "import seaborn as sns\n",
            "\n",
            "# Set the style of the plot\n",
            "sns.set_style(\"whitegrid\")\n",
            "\n",
            "# Create a histogram of the marks\n",
            "plt.hist(student['mark'], bins=50)\n",
            "\n",
            "# Set the title and labels of the plot\n",
            "plt.title(\"Distribution of Marks\")\n",
            "plt.xlabel(\"Marks\")\n",
            "plt.ylabel(\"Frequency\")\n",
            "\n",
            "# Show the plot\n",
            "plt.show()\n",
            "```\n",
            "\n",
            "This code imports the necessary libraries `matplotlib.pyplot` and `seaborn`, sets the style of the plot using `seaborn.set_style()`, creates a histogram of the marks using `plt.hist()`, sets the title and labels of the plot using `plt.title()` and `plt.xlabel()` and `plt.ylabel()`, and finally shows the plot using `plt.show()`.\n"
          ]
        }
      ]
    },
    {
      "cell_type": "code",
      "source": [
        "s = res['text'].find(\"import\")\n",
        "e = res['text'].rfind('```')\n",
        "python_text = res['text'][s:e]"
      ],
      "metadata": {
        "id": "xw_4KnpLLMA7"
      },
      "execution_count": null,
      "outputs": []
    },
    {
      "cell_type": "code",
      "source": [
        "print(python_text)"
      ],
      "metadata": {
        "colab": {
          "base_uri": "https://localhost:8080/"
        },
        "id": "5K1riHVo4Yyy",
        "outputId": "f7304ecd-fd52-49c5-d760-65733e2bf5b1"
      },
      "execution_count": null,
      "outputs": [
        {
          "output_type": "stream",
          "name": "stdout",
          "text": [
            "import matplotlib.pyplot as plt\n",
            "import seaborn as sns\n",
            "\n",
            "# Set the style of the plot\n",
            "sns.set_style(\"whitegrid\")\n",
            "\n",
            "# Create a histogram of the marks\n",
            "plt.hist(student['mark'], bins=50)\n",
            "\n",
            "# Set the title and labels of the plot\n",
            "plt.title(\"Distribution of Marks\")\n",
            "plt.xlabel(\"Marks\")\n",
            "plt.ylabel(\"Frequency\")\n",
            "\n",
            "# Show the plot\n",
            "plt.show()\n",
            "\n"
          ]
        }
      ]
    },
    {
      "cell_type": "code",
      "source": [
        "exec(python_text)"
      ],
      "metadata": {
        "colab": {
          "base_uri": "https://localhost:8080/",
          "height": 472
        },
        "id": "Q-YqJ-izLdty",
        "outputId": "99cdf251-df97-49fc-f6a5-61d626162be5"
      },
      "execution_count": null,
      "outputs": [
        {
          "output_type": "display_data",
          "data": {
            "text/plain": [
              "<Figure size 640x480 with 1 Axes>"
            ],
            "image/png": "[encoded data removed]"
          },
          "metadata": {}
        }
      ]
    },
    {
      "cell_type": "code",
      "source": [],
      "metadata": {
        "id": "aiuSP3F7YE2N"
      },
      "execution_count": null,
      "outputs": []
    }
  ]
}