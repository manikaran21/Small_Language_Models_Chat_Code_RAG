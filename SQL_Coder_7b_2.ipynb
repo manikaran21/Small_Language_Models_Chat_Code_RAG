{
  "nbformat": 4,
  "nbformat_minor": 0,
  "metadata": {
    "colab": {
      "provenance": [],
      "gpuType": "T4"
    },
    "kernelspec": {
      "name": "python3",
      "display_name": "Python 3"
    },
    "language_info": {
      "name": "python"
    },
    "accelerator": "GPU",
    "widgets": {
      "application/vnd.jupyter.widget-state+json": {
        "47b45e3868914ae38e6bb2788aa9d8c3": {
          "model_module": "@jupyter-widgets/controls",
          "model_name": "HBoxModel",
          "model_module_version": "1.5.0",
          "state": {
            "_dom_classes": [],
            "_model_module": "@jupyter-widgets/controls",
            "_model_module_version": "1.5.0",
            "_model_name": "HBoxModel",
            "_view_count": null,
            "_view_module": "@jupyter-widgets/controls",
            "_view_module_version": "1.5.0",
            "_view_name": "HBoxView",
            "box_style": "",
            "children": [
              "IPY_MODEL_9720ee51158047068502a9ff00363246",
              "IPY_MODEL_8af200d3f7ec49e79e698c17fbb550fa",
              "IPY_MODEL_22eaeaa0a0fb4529916ecec103ba3825"
            ],
            "layout": "IPY_MODEL_f22d9d0aba4b410ab93dfac5671ae290"
          }
        },
        "9720ee51158047068502a9ff00363246": {
          "model_module": "@jupyter-widgets/controls",
          "model_name": "HTMLModel",
          "model_module_version": "1.5.0",
          "state": {
            "_dom_classes": [],
            "_model_module": "@jupyter-widgets/controls",
            "_model_module_version": "1.5.0",
            "_model_name": "HTMLModel",
            "_view_count": null,
            "_view_module": "@jupyter-widgets/controls",
            "_view_module_version": "1.5.0",
            "_view_name": "HTMLView",
            "description": "",
            "description_tooltip": null,
            "layout": "IPY_MODEL_fde23ccc105c496a8629acfbd41e4dd6",
            "placeholder": "​",
            "style": "IPY_MODEL_3122e9077501413197e22dd3178b5907",
            "value": "Loading checkpoint shards: 100%"
          }
        },
        "8af200d3f7ec49e79e698c17fbb550fa": {
          "model_module": "@jupyter-widgets/controls",
          "model_name": "FloatProgressModel",
          "model_module_version": "1.5.0",
          "state": {
            "_dom_classes": [],
            "_model_module": "@jupyter-widgets/controls",
            "_model_module_version": "1.5.0",
            "_model_name": "FloatProgressModel",
            "_view_count": null,
            "_view_module": "@jupyter-widgets/controls",
            "_view_module_version": "1.5.0",
            "_view_name": "ProgressView",
            "bar_style": "success",
            "description": "",
            "description_tooltip": null,
            "layout": "IPY_MODEL_edce3037dc764019975f0f8204b56f8d",
            "max": 3,
            "min": 0,
            "orientation": "horizontal",
            "style": "IPY_MODEL_70646ac77c1c42f6bf027e9c3b78b2a9",
            "value": 3
          }
        },
        "22eaeaa0a0fb4529916ecec103ba3825": {
          "model_module": "@jupyter-widgets/controls",
          "model_name": "HTMLModel",
          "model_module_version": "1.5.0",
          "state": {
            "_dom_classes": [],
            "_model_module": "@jupyter-widgets/controls",
            "_model_module_version": "1.5.0",
            "_model_name": "HTMLModel",
            "_view_count": null,
            "_view_module": "@jupyter-widgets/controls",
            "_view_module_version": "1.5.0",
            "_view_name": "HTMLView",
            "description": "",
            "description_tooltip": null,
            "layout": "IPY_MODEL_d11cff92cc454ed792d0542c26b93a88",
            "placeholder": "​",
            "style": "IPY_MODEL_3c1ecadf7cfc46e185f869d103fc3192",
            "value": " 3/3 [00:55&lt;00:00, 17.82s/it]"
          }
        },
        "f22d9d0aba4b410ab93dfac5671ae290": {
          "model_module": "@jupyter-widgets/base",
          "model_name": "LayoutModel",
          "model_module_version": "1.2.0",
          "state": {
            "_model_module": "@jupyter-widgets/base",
            "_model_module_version": "1.2.0",
            "_model_name": "LayoutModel",
            "_view_count": null,
            "_view_module": "@jupyter-widgets/base",
            "_view_module_version": "1.2.0",
            "_view_name": "LayoutView",
            "align_content": null,
            "align_items": null,
            "align_self": null,
            "border": null,
            "bottom": null,
            "display": null,
            "flex": null,
            "flex_flow": null,
            "grid_area": null,
            "grid_auto_columns": null,
            "grid_auto_flow": null,
            "grid_auto_rows": null,
            "grid_column": null,
            "grid_gap": null,
            "grid_row": null,
            "grid_template_areas": null,
            "grid_template_columns": null,
            "grid_template_rows": null,
            "height": null,
            "justify_content": null,
            "justify_items": null,
            "left": null,
            "margin": null,
            "max_height": null,
            "max_width": null,
            "min_height": null,
            "min_width": null,
            "object_fit": null,
            "object_position": null,
            "order": null,
            "overflow": null,
            "overflow_x": null,
            "overflow_y": null,
            "padding": null,
            "right": null,
            "top": null,
            "visibility": null,
            "width": null
          }
        },
        "fde23ccc105c496a8629acfbd41e4dd6": {
          "model_module": "@jupyter-widgets/base",
          "model_name": "LayoutModel",
          "model_module_version": "1.2.0",
          "state": {
            "_model_module": "@jupyter-widgets/base",
            "_model_module_version": "1.2.0",
            "_model_name": "LayoutModel",
            "_view_count": null,
            "_view_module": "@jupyter-widgets/base",
            "_view_module_version": "1.2.0",
            "_view_name": "LayoutView",
            "align_content": null,
            "align_items": null,
            "align_self": null,
            "border": null,
            "bottom": null,
            "display": null,
            "flex": null,
            "flex_flow": null,
            "grid_area": null,
            "grid_auto_columns": null,
            "grid_auto_flow": null,
            "grid_auto_rows": null,
            "grid_column": null,
            "grid_gap": null,
            "grid_row": null,
            "grid_template_areas": null,
            "grid_template_columns": null,
            "grid_template_rows": null,
            "height": null,
            "justify_content": null,
            "justify_items": null,
            "left": null,
            "margin": null,
            "max_height": null,
            "max_width": null,
            "min_height": null,
            "min_width": null,
            "object_fit": null,
            "object_position": null,
            "order": null,
            "overflow": null,
            "overflow_x": null,
            "overflow_y": null,
            "padding": null,
            "right": null,
            "top": null,
            "visibility": null,
            "width": null
          }
        },
        "3122e9077501413197e22dd3178b5907": {
          "model_module": "@jupyter-widgets/controls",
          "model_name": "DescriptionStyleModel",
          "model_module_version": "1.5.0",
          "state": {
            "_model_module": "@jupyter-widgets/controls",
            "_model_module_version": "1.5.0",
            "_model_name": "DescriptionStyleModel",
            "_view_count": null,
            "_view_module": "@jupyter-widgets/base",
            "_view_module_version": "1.2.0",
            "_view_name": "StyleView",
            "description_width": ""
          }
        },
        "edce3037dc764019975f0f8204b56f8d": {
          "model_module": "@jupyter-widgets/base",
          "model_name": "LayoutModel",
          "model_module_version": "1.2.0",
          "state": {
            "_model_module": "@jupyter-widgets/base",
            "_model_module_version": "1.2.0",
            "_model_name": "LayoutModel",
            "_view_count": null,
            "_view_module": "@jupyter-widgets/base",
            "_view_module_version": "1.2.0",
            "_view_name": "LayoutView",
            "align_content": null,
            "align_items": null,
            "align_self": null,
            "border": null,
            "bottom": null,
            "display": null,
            "flex": null,
            "flex_flow": null,
            "grid_area": null,
            "grid_auto_columns": null,
            "grid_auto_flow": null,
            "grid_auto_rows": null,
            "grid_column": null,
            "grid_gap": null,
            "grid_row": null,
            "grid_template_areas": null,
            "grid_template_columns": null,
            "grid_template_rows": null,
            "height": null,
            "justify_content": null,
            "justify_items": null,
            "left": null,
            "margin": null,
            "max_height": null,
            "max_width": null,
            "min_height": null,
            "min_width": null,
            "object_fit": null,
            "object_position": null,
            "order": null,
            "overflow": null,
            "overflow_x": null,
            "overflow_y": null,
            "padding": null,
            "right": null,
            "top": null,
            "visibility": null,
            "width": null
          }
        },
        "70646ac77c1c42f6bf027e9c3b78b2a9": {
          "model_module": "@jupyter-widgets/controls",
          "model_name": "ProgressStyleModel",
          "model_module_version": "1.5.0",
          "state": {
            "_model_module": "@jupyter-widgets/controls",
            "_model_module_version": "1.5.0",
            "_model_name": "ProgressStyleModel",
            "_view_count": null,
            "_view_module": "@jupyter-widgets/base",
            "_view_module_version": "1.2.0",
            "_view_name": "StyleView",
            "bar_color": null,
            "description_width": ""
          }
        },
        "d11cff92cc454ed792d0542c26b93a88": {
          "model_module": "@jupyter-widgets/base",
          "model_name": "LayoutModel",
          "model_module_version": "1.2.0",
          "state": {
            "_model_module": "@jupyter-widgets/base",
            "_model_module_version": "1.2.0",
            "_model_name": "LayoutModel",
            "_view_count": null,
            "_view_module": "@jupyter-widgets/base",
            "_view_module_version": "1.2.0",
            "_view_name": "LayoutView",
            "align_content": null,
            "align_items": null,
            "align_self": null,
            "border": null,
            "bottom": null,
            "display": null,
            "flex": null,
            "flex_flow": null,
            "grid_area": null,
            "grid_auto_columns": null,
            "grid_auto_flow": null,
            "grid_auto_rows": null,
            "grid_column": null,
            "grid_gap": null,
            "grid_row": null,
            "grid_template_areas": null,
            "grid_template_columns": null,
            "grid_template_rows": null,
            "height": null,
            "justify_content": null,
            "justify_items": null,
            "left": null,
            "margin": null,
            "max_height": null,
            "max_width": null,
            "min_height": null,
            "min_width": null,
            "object_fit": null,
            "object_position": null,
            "order": null,
            "overflow": null,
            "overflow_x": null,
            "overflow_y": null,
            "padding": null,
            "right": null,
            "top": null,
            "visibility": null,
            "width": null
          }
        },
        "3c1ecadf7cfc46e185f869d103fc3192": {
          "model_module": "@jupyter-widgets/controls",
          "model_name": "DescriptionStyleModel",
          "model_module_version": "1.5.0",
          "state": {
            "_model_module": "@jupyter-widgets/controls",
            "_model_module_version": "1.5.0",
            "_model_name": "DescriptionStyleModel",
            "_view_count": null,
            "_view_module": "@jupyter-widgets/base",
            "_view_module_version": "1.2.0",
            "_view_name": "StyleView",
            "description_width": ""
          }
        }
      }
    }
  },
  "cells": [
    {
      "cell_type": "code",
      "execution_count": null,
      "metadata": {
        "id": "67V68UA3W2XB"
      },
      "outputs": [],
      "source": []
    },
    {
      "cell_type": "markdown",
      "source": [
        "# SLMS"
      ],
      "metadata": {
        "id": "0q6DmkPUcqUk"
      }
    },
    {
      "cell_type": "markdown",
      "source": [
        "## Required Packages"
      ],
      "metadata": {
        "id": "ZbCT1zCIT_14"
      }
    },
    {
      "cell_type": "code",
      "source": [
        "# !pip install -Uqqq pip --progress-bar off\n",
        "# !pip install -qqq torch==2.1 --progress-bar off\n",
        "# !pip install -qqq accelerate==0.23.0 --progress-bar off\n",
        "# !pip install -qqq bitsandbytes==0.41.1 --progress-bar off\n",
        "# !pip install langchain langchain_community\n",
        "# !pip install langchainhub\n",
        "# !pip install git+https://github.com/huggingface/transformers\n",
        "# !wget https://www.plus2net.com/python/download/my_db.db"
      ],
      "metadata": {
        "id": "_LVcCSZ5Y1s4"
      },
      "execution_count": null,
      "outputs": []
    },
    {
      "cell_type": "markdown",
      "source": [
        "## Required Libraries"
      ],
      "metadata": {
        "id": "fm7QdpNCUFp_"
      }
    },
    {
      "cell_type": "code",
      "source": [
        "from langchain import hub\n",
        "from langchain_community.utilities import SQLDatabase\n",
        "\n",
        "import sqlite3\n",
        "\n",
        "import torch\n",
        "from transformers import (\n",
        "    AutoModelForCausalLM,\n",
        "    AutoTokenizer,\n",
        "    GenerationConfig,\n",
        "    TextStreamer,\n",
        "    pipeline,\n",
        ")\n",
        "\n",
        "from langchain import HuggingFacePipeline\n",
        "from langchain import PromptTemplate, LLMChain\n",
        "\n",
        "\n"
      ],
      "metadata": {
        "id": "VAzQvrDmFw4a"
      },
      "execution_count": null,
      "outputs": []
    },
    {
      "cell_type": "markdown",
      "source": [
        "## SLM Model"
      ],
      "metadata": {
        "id": "UVdALJVmUN1r"
      }
    },
    {
      "cell_type": "code",
      "source": [
        "MODEL_NAME = \"defog/sqlcoder-7b-2\"\n",
        "\n",
        "tokenizer = AutoTokenizer.from_pretrained(MODEL_NAME) # ,use_fast=False\n",
        "model = AutoModelForCausalLM.from_pretrained(\n",
        "    MODEL_NAME,\n",
        "        trust_remote_code=True,\n",
        "        # torch_dtype=torch.float16,\n",
        "         load_in_8bit=True,\n",
        "        device_map=\"auto\",\n",
        "        use_cache=True,\n",
        ")\n",
        "\n",
        "generation_config = GenerationConfig.from_pretrained(MODEL_NAME)\n",
        "generation_config.max_new_tokens = 400\n",
        "generation_config.temperature = 0.0001\n",
        "generation_config.num_beams=1\n",
        "generation_config.num_beam_groups=1\n",
        "generation_config.do_sample = False\n",
        "\n",
        "\n",
        "llm_pipeline = pipeline(\n",
        "\"text-generation\",\n",
        "model=model,\n",
        "tokenizer=tokenizer,\n",
        "return_full_text=True,\n",
        "generation_config=generation_config,\n",
        "num_return_sequences=1,\n",
        "eos_token_id=tokenizer.eos_token_id,\n",
        "pad_token_id=tokenizer.eos_token_id\n",
        ")\n",
        "\n",
        "llm = HuggingFacePipeline(pipeline=llm_pipeline)"
      ],
      "metadata": {
        "colab": {
          "base_uri": "https://localhost:8080/",
          "height": 190,
          "referenced_widgets": [
            "47b45e3868914ae38e6bb2788aa9d8c3",
            "9720ee51158047068502a9ff00363246",
            "8af200d3f7ec49e79e698c17fbb550fa",
            "22eaeaa0a0fb4529916ecec103ba3825",
            "f22d9d0aba4b410ab93dfac5671ae290",
            "fde23ccc105c496a8629acfbd41e4dd6",
            "3122e9077501413197e22dd3178b5907",
            "edce3037dc764019975f0f8204b56f8d",
            "70646ac77c1c42f6bf027e9c3b78b2a9",
            "d11cff92cc454ed792d0542c26b93a88",
            "3c1ecadf7cfc46e185f869d103fc3192"
          ]
        },
        "id": "3a4MJ0z6svex",
        "outputId": "2b9e74fa-3129-4db2-f019-1e602d8b21a3"
      },
      "execution_count": null,
      "outputs": [
        {
          "output_type": "stream",
          "name": "stderr",
          "text": [
            "/usr/local/lib/python3.10/dist-packages/huggingface_hub/utils/_token.py:88: UserWarning: \n",
            "The secret `HF_TOKEN` does not exist in your Colab secrets.\n",
            "To authenticate with the Hugging Face Hub, create a token in your settings tab (https://huggingface.co/settings/tokens), set it as secret in your Google Colab and restart your session.\n",
            "You will be able to reuse this secret in all of your notebooks.\n",
            "Please note that authentication is recommended but still optional to access public models or datasets.\n",
            "  warnings.warn(\n",
            "The `load_in_4bit` and `load_in_8bit` arguments are deprecated and will be removed in the future versions. Please, pass a `BitsAndBytesConfig` object in `quantization_config` argument instead.\n"
          ]
        },
        {
          "output_type": "display_data",
          "data": {
            "text/plain": [
              "Loading checkpoint shards:   0%|          | 0/3 [00:00<?, ?it/s]"
            ],
            "application/vnd.jupyter.widget-view+json": {
              "version_major": 2,
              "version_minor": 0,
              "model_id": "47b45e3868914ae38e6bb2788aa9d8c3"
            }
          },
          "metadata": {}
        }
      ]
    },
    {
      "cell_type": "code",
      "source": [
        "template = \"\"\"\n",
        "### Task\n",
        "Generate a SQL query to answer [QUESTION]{user_question}[/QUESTION]\n",
        "\n",
        "### Database Schema\n",
        "The query will run on a database with the following schema:\n",
        "{table_metadata_string_DDL_statements}\n",
        "\n",
        "### Answer\n",
        "Given the database schema, here is the SQL query that [QUESTION]{user_question}[/QUESTION]\n",
        "[SQL]\n",
        "\n",
        "\"\"\"\n",
        "prompt = PromptTemplate(input_variables = ['user_question','table_metadata_string_DDL_statements'] , template = template )\n",
        "\n",
        "llm_chain = LLMChain(llm = llm , prompt = prompt)"
      ],
      "metadata": {
        "id": "YOpmKr8s8Z2l"
      },
      "execution_count": null,
      "outputs": []
    },
    {
      "cell_type": "code",
      "source": [
        "\n",
        "db = SQLDatabase.from_uri(\"sqlite:///./my_db.db\",sample_rows_in_table_info=0)\n",
        "schema = db.get_table_info()\n",
        "question = \"Give me the names of the students whose marks is above 50\"\n",
        "input = {'user_question':question , 'table_metadata_string_DDL_statements':schema}\n",
        "res = llm_chain.invoke(input)\n",
        "print(res['text'])\n",
        "query = res['text']\n",
        "connection= sqlite3.connect(\"my_db.db\")\n",
        "cursor = connection.cursor()\n",
        "data = cursor.execute(query)\n",
        "# rows = cursor.fetchall()\n",
        "\n",
        "for row in data:\n",
        "  print(row)\n",
        "\n",
        "connection.commit()\n",
        "connection.close()"
      ],
      "metadata": {
        "id": "YdiDZC8FsviP",
        "colab": {
          "base_uri": "https://localhost:8080/"
        },
        "outputId": "e03d05bf-2993-4342-b118-99468363a014"
      },
      "execution_count": null,
      "outputs": [
        {
          "output_type": "stream",
          "name": "stderr",
          "text": [
            "/usr/local/lib/python3.10/dist-packages/transformers/generation/configuration_utils.py:410: UserWarning: `do_sample` is set to `False`. However, `temperature` is set to `0.0001` -- this flag is only used in sample-based generation modes. You should set `do_sample=True` or unset `temperature`.\n",
            "  warnings.warn(\n"
          ]
        },
        {
          "output_type": "stream",
          "name": "stdout",
          "text": [
            " SELECT s.name FROM student s WHERE s.mark > 50 ORDER BY s.name NULLS LAST;\n",
            "('Alex John',)\n",
            "('Arnold',)\n",
            "('Asruid',)\n",
            "('Babby John',)\n",
            "('Big John',)\n",
            "('Big Nose',)\n",
            "('Bigy',)\n",
            "('Binn Rott',)\n",
            "('Crelea',)\n",
            "('Gain Toe',)\n",
            "('Giff Tow',)\n",
            "('Gimmy',)\n",
            "('Herod',)\n",
            "('Honny',)\n",
            "('Jackly',)\n",
            "('John Deo',)\n",
            "('John Mike',)\n",
            "('Kenn Rein',)\n",
            "('Krish Star',)\n",
            "('Kty',)\n",
            "('Marry Toeey',)\n",
            "('Max Ruin',)\n",
            "('My John Rob',)\n",
            "('Recky',)\n",
            "('Reggid',)\n",
            "('Reppy Red',)\n",
            "('Rojj Base',)\n",
            "('Ronald',)\n",
            "('Rows Noump',)\n",
            "('Tade Row',)\n",
            "('Tes Qry',)\n",
            "('Tess Played',)\n",
            "('Tiddy Now',)\n",
            "('Tumyu',)\n"
          ]
        }
      ]
    },
    {
      "cell_type": "code",
      "source": [],
      "metadata": {
        "id": "_ihT3wtIXAq_"
      },
      "execution_count": null,
      "outputs": []
    },
    {
      "cell_type": "markdown",
      "source": [
        "![sqlcoder-7b.png](data:image/png;base64,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)"
      ],
      "metadata": {
        "id": "pnTjucEbXA7X"
      }
    },
    {
      "cell_type": "code",
      "source": [],
      "metadata": {
        "id": "vOq759ULXMTn"
      },
      "execution_count": null,
      "outputs": []
    }
  ]
}